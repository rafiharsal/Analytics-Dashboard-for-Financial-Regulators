{
 "cells": [
  {
   "cell_type": "markdown",
   "metadata": {},
   "source": [
    "## Import Libraries"
   ]
  },
  {
   "cell_type": "code",
   "execution_count": 1,
   "metadata": {},
   "outputs": [
    {
     "data": {
      "application/javascript": "IPython.notebook.set_autosave_interval(60000)"
     },
     "metadata": {},
     "output_type": "display_data"
    },
    {
     "name": "stdout",
     "output_type": "stream",
     "text": [
      "Autosaving every 60 seconds\n"
     ]
    }
   ],
   "source": [
    "%autosave 60\n",
    "%load_ext autoreload\n",
    "%autoreload 2"
   ]
  },
  {
   "cell_type": "code",
   "execution_count": 2,
   "metadata": {},
   "outputs": [],
   "source": [
    "# Import Libraries\n",
    "import pandas as pd\n",
    "import warnings\n",
    "from darts.datasets import AirPassengersDataset, MonthlyMilkDataset\n",
    "from darts.models import NaiveSeasonal, AutoARIMA\n",
    "import unittest\n",
    "\n",
    "# Libraries Settings\n",
    "warnings.filterwarnings('ignore')"
   ]
  },
  {
   "cell_type": "markdown",
   "metadata": {},
   "source": [
    "## Import Functions"
   ]
  },
  {
   "cell_type": "code",
   "execution_count": 3,
   "metadata": {},
   "outputs": [],
   "source": [
    "# Import Functions for Data Preprocessing\n",
    "from src.preprocess import dataset_info, skewness_checking, outlier_handling, interpolate_quart_to_month, pearson_corr_features_name\n",
    "\n",
    "# Import Functions for Plotting\n",
    "from src.plot import plot_distribution, plot_missing_values, plot_pred, plot_pred_ml\n",
    "\n",
    "# Import Functions for Training\n",
    "from src.train import eval_model, eval_model_ml, model_pkl, pred_model, pred_ml_model\n",
    "\n",
    "# Import Functions for Utility\n",
    "from src.utils import month_diff_ts, load_dw"
   ]
  },
  {
   "cell_type": "markdown",
   "metadata": {},
   "source": [
    "## Unit Test"
   ]
  },
  {
   "cell_type": "markdown",
   "metadata": {},
   "source": [
    "### Data Preprocessing Module"
   ]
  },
  {
   "cell_type": "code",
   "execution_count": 4,
   "metadata": {},
   "outputs": [],
   "source": [
    "# Conduct unit test on preprocess modules\n",
    "class TestPreprocess(unittest.TestCase):\n",
    "        \n",
    "        def test_dataset_info(self):\n",
    "            df = AirPassengersDataset().load()\n",
    "            self.assertEqual(dataset_info(df), (144, 1))\n",
    "            \n",
    "        def test_skewness_checking(self):\n",
    "            df = AirPassengersDataset().load()\n",
    "            self.assertEqual(skewness_checking(df), (0.631, 0.821))\n",
    "            \n",
    "        def test_outlier_handling(self):\n",
    "            df = AirPassengersDataset().load()\n",
    "            self.assertEqual(outlier_handling(df), (0.631, 0.821))\n",
    "            \n",
    "        def test_interpolate_quart_to_month(self):\n",
    "            df = MonthlyMilkDataset().load()\n",
    "            self.assertEqual(interpolate_quart_to_month(df), (168, 1))\n",
    "            \n",
    "        def test_pearson_corr_features_name(self):\n",
    "            df = AirPassengersDataset().load()\n",
    "            self.assertEqual(pearson_corr_features_name(df), ['AirPassengers'])"
   ]
  },
  {
   "cell_type": "markdown",
   "metadata": {},
   "source": [
    "### Plotting Module"
   ]
  },
  {
   "cell_type": "code",
   "execution_count": 5,
   "metadata": {},
   "outputs": [],
   "source": [
    "# Conduct unit test on plot modules\n",
    "class TestPlot(unittest.TestCase):\n",
    "\n",
    "        def test_plot_distribution(self):\n",
    "            df = AirPassengersDataset().load()\n",
    "            self.assertEqual(plot_distribution(df), None)\n",
    "\n",
    "        def test_plot_missing_values(self):\n",
    "            df = AirPassengersDataset().load()\n",
    "            self.assertEqual(plot_missing_values(df), None)\n",
    "            \n",
    "        def test_plot_pred(self):\n",
    "            df = AirPassengersDataset().load()\n",
    "            self.assertEqual(plot_pred(df), None)\n",
    "            \n",
    "        def test_plot_pred_ml(self):\n",
    "            df = AirPassengersDataset().load()\n",
    "            self.assertEqual(plot_pred_ml(df), None)"
   ]
  },
  {
   "cell_type": "markdown",
   "metadata": {},
   "source": [
    "### Training Module"
   ]
  },
  {
   "cell_type": "code",
   "execution_count": 6,
   "metadata": {},
   "outputs": [],
   "source": [
    "# Conduct unit test on train modules\n",
    "class TestTrain(unittest.TestCase):\n",
    "\n",
    "        def eval_model(self):\n",
    "            df = AirPassengersDataset().load()\n",
    "            self.assertEqual(eval_model(df), None)\n",
    "        \n",
    "        def eval_model_ml(self):\n",
    "            df = AirPassengersDataset().load()\n",
    "            self.assertEqual(eval_model_ml(df), None)\n",
    "\n",
    "        def model_pkl(self):\n",
    "            df = AirPassengersDataset().load()\n",
    "            self.assertEqual(model_pkl(df), None)\n",
    "\n",
    "        def pred_model(self):\n",
    "            df = AirPassengersDataset().load()\n",
    "            self.assertEqual(pred_model(df), None)\n",
    "        \n",
    "        def pred_ml_model(self):\n",
    "            df = AirPassengersDataset().load()\n",
    "            self.assertEqual(pred_ml_model(df), None)"
   ]
  },
  {
   "cell_type": "markdown",
   "metadata": {},
   "source": [
    "### Utility Module"
   ]
  },
  {
   "cell_type": "code",
   "execution_count": 7,
   "metadata": {},
   "outputs": [],
   "source": [
    "# Conduct unit test on utility modules\n",
    "class TestUtils(unittest.TestCase):\n",
    "    \n",
    "            def test_month_diff_ts(self):\n",
    "                df = AirPassengersDataset().load()\n",
    "                self.assertEqual(month_diff_ts(df), (0.631, 0.821))\n",
    "                \n",
    "            def test_load_dw(self):\n",
    "                df = AirPassengersDataset().load()\n",
    "                self.assertEqual(load_dw(df), (0.631, 0.821))"
   ]
  },
  {
   "cell_type": "markdown",
   "metadata": {},
   "source": [
    "## Error-free & Error Handling "
   ]
  },
  {
   "cell_type": "markdown",
   "metadata": {},
   "source": [
    "### Data Preprocessing Module"
   ]
  },
  {
   "cell_type": "markdown",
   "metadata": {},
   "source": [
    "#### 'outlier_handling' Function Test"
   ]
  },
  {
   "cell_type": "code",
   "execution_count": 8,
   "metadata": {},
   "outputs": [
    {
     "data": {
      "text/html": [
       "<div>\n",
       "<style scoped>\n",
       "    .dataframe tbody tr th:only-of-type {\n",
       "        vertical-align: middle;\n",
       "    }\n",
       "\n",
       "    .dataframe tbody tr th {\n",
       "        vertical-align: top;\n",
       "    }\n",
       "\n",
       "    .dataframe thead th {\n",
       "        text-align: right;\n",
       "    }\n",
       "</style>\n",
       "<table border=\"1\" class=\"dataframe\">\n",
       "  <thead>\n",
       "    <tr style=\"text-align: right;\">\n",
       "      <th></th>\n",
       "      <th>A</th>\n",
       "    </tr>\n",
       "  </thead>\n",
       "  <tbody>\n",
       "    <tr>\n",
       "      <th>0</th>\n",
       "      <td>1</td>\n",
       "    </tr>\n",
       "    <tr>\n",
       "      <th>1</th>\n",
       "      <td>2</td>\n",
       "    </tr>\n",
       "    <tr>\n",
       "      <th>2</th>\n",
       "      <td>3</td>\n",
       "    </tr>\n",
       "    <tr>\n",
       "      <th>3</th>\n",
       "      <td>4</td>\n",
       "    </tr>\n",
       "    <tr>\n",
       "      <th>4</th>\n",
       "      <td>5</td>\n",
       "    </tr>\n",
       "    <tr>\n",
       "      <th>5</th>\n",
       "      <td>6</td>\n",
       "    </tr>\n",
       "    <tr>\n",
       "      <th>6</th>\n",
       "      <td>7</td>\n",
       "    </tr>\n",
       "    <tr>\n",
       "      <th>7</th>\n",
       "      <td>8</td>\n",
       "    </tr>\n",
       "    <tr>\n",
       "      <th>8</th>\n",
       "      <td>9</td>\n",
       "    </tr>\n",
       "    <tr>\n",
       "      <th>9</th>\n",
       "      <td>10</td>\n",
       "    </tr>\n",
       "    <tr>\n",
       "      <th>10</th>\n",
       "      <td>16</td>\n",
       "    </tr>\n",
       "  </tbody>\n",
       "</table>\n",
       "</div>"
      ],
      "text/plain": [
       "     A\n",
       "0    1\n",
       "1    2\n",
       "2    3\n",
       "3    4\n",
       "4    5\n",
       "5    6\n",
       "6    7\n",
       "7    8\n",
       "8    9\n",
       "9   10\n",
       "10  16"
      ]
     },
     "execution_count": 8,
     "metadata": {},
     "output_type": "execute_result"
    }
   ],
   "source": [
    "# Test with known outliers to check if they are properly capped.\n",
    "\n",
    "# Create a dataframe with an outlier value\n",
    "df_outlier = pd.DataFrame({'A': [1, 2, 3, 4, 5, 6, 7, 8, 9, 10, 100]})\n",
    "\n",
    "# Handle outliers using outlier_handling function\n",
    "outlier_handling(df_outlier, 'A')\n",
    "\n",
    "# Check if the outlier is properly capped\n",
    "df_outlier"
   ]
  },
  {
   "cell_type": "code",
   "execution_count": 9,
   "metadata": {},
   "outputs": [
    {
     "data": {
      "text/html": [
       "<div>\n",
       "<style scoped>\n",
       "    .dataframe tbody tr th:only-of-type {\n",
       "        vertical-align: middle;\n",
       "    }\n",
       "\n",
       "    .dataframe tbody tr th {\n",
       "        vertical-align: top;\n",
       "    }\n",
       "\n",
       "    .dataframe thead th {\n",
       "        text-align: right;\n",
       "    }\n",
       "</style>\n",
       "<table border=\"1\" class=\"dataframe\">\n",
       "  <thead>\n",
       "    <tr style=\"text-align: right;\">\n",
       "      <th></th>\n",
       "      <th>A</th>\n",
       "    </tr>\n",
       "  </thead>\n",
       "  <tbody>\n",
       "    <tr>\n",
       "      <th>0</th>\n",
       "      <td>1.0</td>\n",
       "    </tr>\n",
       "    <tr>\n",
       "      <th>1</th>\n",
       "      <td>2.0</td>\n",
       "    </tr>\n",
       "    <tr>\n",
       "      <th>2</th>\n",
       "      <td>3.0</td>\n",
       "    </tr>\n",
       "    <tr>\n",
       "      <th>3</th>\n",
       "      <td>4.0</td>\n",
       "    </tr>\n",
       "    <tr>\n",
       "      <th>4</th>\n",
       "      <td>5.0</td>\n",
       "    </tr>\n",
       "    <tr>\n",
       "      <th>5</th>\n",
       "      <td>6.0</td>\n",
       "    </tr>\n",
       "    <tr>\n",
       "      <th>6</th>\n",
       "      <td>7.0</td>\n",
       "    </tr>\n",
       "    <tr>\n",
       "      <th>7</th>\n",
       "      <td>8.0</td>\n",
       "    </tr>\n",
       "    <tr>\n",
       "      <th>8</th>\n",
       "      <td>9.0</td>\n",
       "    </tr>\n",
       "    <tr>\n",
       "      <th>9</th>\n",
       "      <td>10.0</td>\n",
       "    </tr>\n",
       "  </tbody>\n",
       "</table>\n",
       "</div>"
      ],
      "text/plain": [
       "      A\n",
       "0   1.0\n",
       "1   2.0\n",
       "2   3.0\n",
       "3   4.0\n",
       "4   5.0\n",
       "5   6.0\n",
       "6   7.0\n",
       "7   8.0\n",
       "8   9.0\n",
       "9  10.0"
      ]
     },
     "execution_count": 9,
     "metadata": {},
     "output_type": "execute_result"
    }
   ],
   "source": [
    "# Test with no outliers to ensure the data remains unchanged.\n",
    "\n",
    "# Create a dataframe with no outlier value\n",
    "df_no_outlier = pd.DataFrame({'A': [1, 2, 3, 4, 5, 6, 7, 8, 9, 10]})\n",
    "\n",
    "# Handle outliers using outlier_handling function\n",
    "outlier_handling(df_no_outlier, 'A')\n",
    "\n",
    "# Check if the data remains unchanged\n",
    "df_no_outlier"
   ]
  },
  {
   "cell_type": "markdown",
   "metadata": {},
   "source": [
    "### 'interpolate_quart_to_month' Function Test"
   ]
  },
  {
   "cell_type": "code",
   "execution_count": 10,
   "metadata": {},
   "outputs": [
    {
     "data": {
      "text/html": [
       "<div>\n",
       "<style scoped>\n",
       "    .dataframe tbody tr th:only-of-type {\n",
       "        vertical-align: middle;\n",
       "    }\n",
       "\n",
       "    .dataframe tbody tr th {\n",
       "        vertical-align: top;\n",
       "    }\n",
       "\n",
       "    .dataframe thead th {\n",
       "        text-align: right;\n",
       "    }\n",
       "</style>\n",
       "<table border=\"1\" class=\"dataframe\">\n",
       "  <thead>\n",
       "    <tr style=\"text-align: right;\">\n",
       "      <th></th>\n",
       "      <th>date</th>\n",
       "      <th>household_consumption</th>\n",
       "    </tr>\n",
       "  </thead>\n",
       "  <tbody>\n",
       "    <tr>\n",
       "      <th>0</th>\n",
       "      <td>2000-01-01</td>\n",
       "      <td>1.000000</td>\n",
       "    </tr>\n",
       "    <tr>\n",
       "      <th>1</th>\n",
       "      <td>2000-02-01</td>\n",
       "      <td>2.019971</td>\n",
       "    </tr>\n",
       "    <tr>\n",
       "      <th>2</th>\n",
       "      <td>2000-03-01</td>\n",
       "      <td>2.976400</td>\n",
       "    </tr>\n",
       "    <tr>\n",
       "      <th>3</th>\n",
       "      <td>2000-04-01</td>\n",
       "      <td>4.000000</td>\n",
       "    </tr>\n",
       "    <tr>\n",
       "      <th>4</th>\n",
       "      <td>2000-05-01</td>\n",
       "      <td>4.990593</td>\n",
       "    </tr>\n",
       "    <tr>\n",
       "      <th>5</th>\n",
       "      <td>2000-06-01</td>\n",
       "      <td>6.012977</td>\n",
       "    </tr>\n",
       "    <tr>\n",
       "      <th>6</th>\n",
       "      <td>2000-07-01</td>\n",
       "      <td>7.000000</td>\n",
       "    </tr>\n",
       "    <tr>\n",
       "      <th>7</th>\n",
       "      <td>2000-08-01</td>\n",
       "      <td>8.016221</td>\n",
       "    </tr>\n",
       "    <tr>\n",
       "      <th>8</th>\n",
       "      <td>2000-09-01</td>\n",
       "      <td>9.027415</td>\n",
       "    </tr>\n",
       "    <tr>\n",
       "      <th>9</th>\n",
       "      <td>2000-10-01</td>\n",
       "      <td>10.000000</td>\n",
       "    </tr>\n",
       "  </tbody>\n",
       "</table>\n",
       "</div>"
      ],
      "text/plain": [
       "        date  household_consumption\n",
       "0 2000-01-01               1.000000\n",
       "1 2000-02-01               2.019971\n",
       "2 2000-03-01               2.976400\n",
       "3 2000-04-01               4.000000\n",
       "4 2000-05-01               4.990593\n",
       "5 2000-06-01               6.012977\n",
       "6 2000-07-01               7.000000\n",
       "7 2000-08-01               8.016221\n",
       "8 2000-09-01               9.027415\n",
       "9 2000-10-01              10.000000"
      ]
     },
     "execution_count": 10,
     "metadata": {},
     "output_type": "execute_result"
    }
   ],
   "source": [
    "# Test interpolation accuracy with mock quarterly data.\n",
    "\n",
    "# Create a dataframe with mock quarterly data and DateTime index\n",
    "df_quart = pd.DataFrame({'A': [1, 4, 7, 10]}, index=pd.date_range('2000-01-01', periods=4, freq='QS'))\n",
    "\n",
    "# Interpolate quarterly data to monthly data\n",
    "df_month = interpolate_quart_to_month(df=df_quart, column='A')\n",
    "\n",
    "# Check if the data is properly interpolated\n",
    "df_month"
   ]
  },
  {
   "cell_type": "code",
   "execution_count": 11,
   "metadata": {},
   "outputs": [
    {
     "name": "stdout",
     "output_type": "stream",
     "text": [
      "The dataframe has no DateTime index\n"
     ]
    }
   ],
   "source": [
    "# Test behavior with non-date indexed DataFrame.\n",
    "\n",
    "# Create a dataframe with mock quarterly data and non-DateTime index\n",
    "df_quart = pd.DataFrame({'A': [1, 4, 7, 10]}, index=[1, 2, 3, 4])\n",
    "\n",
    "# Interpolate quarterly data to monthly data\n",
    "df_month = interpolate_quart_to_month(df=df_quart, column='A')\n",
    "\n",
    "# Check if the data is properly interpolated\n",
    "df_month"
   ]
  },
  {
   "cell_type": "markdown",
   "metadata": {},
   "source": [
    "### pearson_corr_features_name Function Test"
   ]
  },
  {
   "cell_type": "code",
   "execution_count": 12,
   "metadata": {},
   "outputs": [
    {
     "data": {
      "text/plain": [
       "['B', 'C', 'D']"
      ]
     },
     "execution_count": 12,
     "metadata": {},
     "output_type": "execute_result"
    }
   ],
   "source": [
    "# Test with a DataFrame to ensure it returns correct correlated features.\n",
    "\n",
    "# Create a dataframe with mock data\n",
    "df_corr = pd.DataFrame({'A': [1, 2, 3, 4, 5], 'B': [1, 2, 3, 4, 5], 'C': [1, 2, 3, 4, 5], 'D': [1, 2, 3, 4, 5]})\n",
    "\n",
    "# Check if the function returns correct correlated features\n",
    "features = pearson_corr_features_name(df_corr, 'A', threshold=0.5 )\n",
    "\n",
    "# Show the correlated features\n",
    "features"
   ]
  },
  {
   "cell_type": "code",
   "execution_count": 13,
   "metadata": {},
   "outputs": [
    {
     "data": {
      "text/plain": [
       "[]"
      ]
     },
     "execution_count": 13,
     "metadata": {},
     "output_type": "execute_result"
    }
   ],
   "source": [
    "# Test with a threshold that no feature meets to ensure an empty list is returned.\n",
    "\n",
    "# Create a dataframe with mock data\n",
    "df_corr = pd.DataFrame({'A': [1, 2, 3, 4, 5], 'B': [5, 4, 3, 2, 1], 'C': [5, 4, 3, 2, 1], 'D': [5, 4, 3, 2, 1]})\n",
    "\n",
    "# Check if the function returns an empty list\n",
    "features = pearson_corr_features_name(df_corr, 'A', threshold=0.9 )\n",
    "\n",
    "# Show the correlated features\n",
    "features"
   ]
  },
  {
   "cell_type": "markdown",
   "metadata": {},
   "source": [
    "## Plotting Module"
   ]
  },
  {
   "cell_type": "markdown",
   "metadata": {},
   "source": [
    "### 'plot_distribution' Function Test"
   ]
  },
  {
   "cell_type": "code",
   "execution_count": 14,
   "metadata": {},
   "outputs": [
    {
     "data": {
      "image/png": "[encoded data removed]",
      "text/plain": [
       "<Figure size 1000x500 with 2 Axes>"
      ]
     },
     "metadata": {},
     "output_type": "display_data"
    },
    {
     "data": {
      "image/png": "[encoded data removed]",
      "text/plain": [
       "<Figure size 1000x500 with 2 Axes>"
      ]
     },
     "metadata": {},
     "output_type": "display_data"
    }
   ],
   "source": [
    "# Test function so that it correctly plots distributions for a DataFrame with numerical columns.\n",
    "\n",
    "# Create a DataFrame\n",
    "df_numeric = pd.DataFrame({'A': [1, 2, 3, 4, 5, 6, 7, 8, 9, 10],\n",
    "                            'B': [1, 2, 3, 4, 5, 6, 7, 8, 9, 10]})\n",
    "\n",
    "# Plot distributions using plot_distribution function\n",
    "plot_distribution(df_numeric, 'Test Numeric')\n"
   ]
  },
  {
   "cell_type": "code",
   "execution_count": 15,
   "metadata": {},
   "outputs": [],
   "source": [
    "# Test function so that it correctly plots distributions for a DataFrame with no numerical columns.\n",
    "\n",
    "# Create a DataFrame\n",
    "df_non_numeric = pd.DataFrame({'A': ['a', 'b', 'c', 'd', 'e', 'f', 'g', 'h', 'i', 'j'],\n",
    "                                 'B': ['a', 'b', 'c', 'd', 'e', 'f', 'g', 'h', 'i', 'j']})\n",
    "\n",
    "# Plot distributions using plot_distribution function\n",
    "plot_distribution(df_non_numeric, 'Test Non-Numeric')"
   ]
  },
  {
   "cell_type": "markdown",
   "metadata": {},
   "source": [
    "### 'plot_missing_values' Function Test"
   ]
  },
  {
   "cell_type": "code",
   "execution_count": 16,
   "metadata": {},
   "outputs": [
    {
     "name": "stdout",
     "output_type": "stream",
     "text": [
      "\u001b[1mTest Missing\u001b[0m\n",
      "A    1\n",
      "B    0\n",
      "dtype: int64\n"
     ]
    },
    {
     "data": {
      "image/png": "[encoded data removed]",
      "text/plain": [
       "<Figure size 1000x400 with 3 Axes>"
      ]
     },
     "metadata": {},
     "output_type": "display_data"
    }
   ],
   "source": [
    "# Test function so that it correctly plots missing values for a DataFrame with missing values.\n",
    "\n",
    "# Create a DataFrame\n",
    "df_missing = pd.DataFrame({'A': [1, 2, 3, 4, 5, 6, 7, 8, 9, 10],\n",
    "                            'B': [1, 2, 3, 4, 5, 6, 7, 8, 9, 10]})\n",
    "\n",
    "# Add missing values\n",
    "df_missing.loc[0, 'A'] = None\n",
    "\n",
    "# Plot missing values using plot_missing_values function\n",
    "plot_missing_values(df_missing, 'Test Missing')"
   ]
  },
  {
   "cell_type": "code",
   "execution_count": 17,
   "metadata": {},
   "outputs": [
    {
     "name": "stdout",
     "output_type": "stream",
     "text": [
      "\u001b[1mTest No Missing\u001b[0m\n",
      "A    0\n",
      "B    0\n",
      "dtype: int64\n"
     ]
    },
    {
     "data": {
      "image/png": "[encoded data removed]",
      "text/plain": [
       "<Figure size 1000x400 with 3 Axes>"
      ]
     },
     "metadata": {},
     "output_type": "display_data"
    }
   ],
   "source": [
    "# Test function so that it correctly plots missing values for a DataFrame with no missing values.\n",
    "\n",
    "# Create a DataFrame\n",
    "df_no_missing = pd.DataFrame({'A': [1, 2, 3, 4, 5, 6, 7, 8, 9, 10],\n",
    "                            'B': [1, 2, 3, 4, 5, 6, 7, 8, 9, 10]})\n",
    "\n",
    "# Plot missing values using plot_missing_values function\n",
    "plot_missing_values(df_no_missing, 'Test No Missing')"
   ]
  },
  {
   "cell_type": "markdown",
   "metadata": {},
   "source": [
    "### 'plot_pred' Function Test"
   ]
  },
  {
   "cell_type": "code",
   "execution_count": 18,
   "metadata": {},
   "outputs": [],
   "source": [
    "# Import AirPassengersDataset from darts.datasets\n",
    "series_air = AirPassengersDataset().load()\n",
    "\n",
    "# Split into training and validation sets\n",
    "train_air, val_air = series_air.split_after(0.80)\n",
    "\n",
    "# Instantiate simple Naive Seasonal model\n",
    "naive_model = NaiveSeasonal(K=12)"
   ]
  },
  {
   "cell_type": "code",
   "execution_count": 19,
   "metadata": {},
   "outputs": [
    {
     "data": {
      "image/png": "[encoded data removed]",
      "text/plain": [
       "<Figure size 640x480 with 1 Axes>"
      ]
     },
     "metadata": {},
     "output_type": "display_data"
    }
   ],
   "source": [
    "# Test function for a DataFrame with TimeSeries index.\n",
    "\n",
    "# Plot predictions using plot_pred function\n",
    "plot_pred(model=naive_model, len=len(val_air), train=train_air, val=val_air, suptitle='Test TimeSeries Index')"
   ]
  },
  {
   "cell_type": "code",
   "execution_count": 20,
   "metadata": {},
   "outputs": [
    {
     "name": "stdout",
     "output_type": "stream",
     "text": [
      "Input is not a TimeSeries.\n"
     ]
    }
   ],
   "source": [
    "# Test function for a DataFrame with no TimeSeries index.\n",
    "\n",
    "# Create a DataFrame with no TimeSeries index\n",
    "df_no_ts = pd.DataFrame({'A': [1, 2, 3, 4, 5 ,6 ,7 ,8, 9, 10, 11, 12]}, index=[1, 2, 3, 4, 5 ,6 ,7 ,8, 9, 10, 11, 12])\n",
    "\n",
    "# Plot predictions using plot_pred function\n",
    "plot_pred(model=naive_model, len=len(df_no_ts), train=df_no_ts, val=df_no_ts, suptitle='Test Non-Numeric')\n"
   ]
  },
  {
   "cell_type": "markdown",
   "metadata": {},
   "source": [
    "### 'plot_pred_ml' Function Test"
   ]
  },
  {
   "cell_type": "code",
   "execution_count": 21,
   "metadata": {},
   "outputs": [],
   "source": [
    "# Instantiatiate AutoARIMA model\n",
    "auto_arima_model = AutoARIMA()"
   ]
  },
  {
   "cell_type": "code",
   "execution_count": 22,
   "metadata": {},
   "outputs": [
    {
     "data": {
      "image/png": "[encoded data removed]",
      "text/plain": [
       "<Figure size 640x480 with 1 Axes>"
      ]
     },
     "metadata": {},
     "output_type": "display_data"
    }
   ],
   "source": [
    "# Test function for a DataFrame with TimeSeries index.\n",
    "\n",
    "# Plot predictions using plot_pred_ml function\n",
    "plot_pred_ml(model=auto_arima_model, len=len(val_air), train=train_air, val=val_air, cov=series_air, suptitle='Test TimeSeries Index')"
   ]
  },
  {
   "cell_type": "code",
   "execution_count": 23,
   "metadata": {},
   "outputs": [
    {
     "name": "stdout",
     "output_type": "stream",
     "text": [
      "Input is not a TimeSeries.\n"
     ]
    }
   ],
   "source": [
    "# Test function for a DataFrame with no TimeSeries index.\n",
    "\n",
    "# Create a DataFrame with no TimeSeries index\n",
    "df_no_ts = pd.DataFrame({'A': [1, 2, 3, 4, 5, 6, 7, 8, 9, 10, 11, 12],\n",
    "                         'B': [1, 2, 3, 4, 5, 6, 7, 8, 9, 10, 11, 12]}, \n",
    "                         index=[1, 2, 3, 4, 5 ,6 ,7 ,8, 9, 10, 11, 12])\n",
    "\n",
    "# Plot predictions using plot_pred_ml function\n",
    "plot_pred_ml(model=auto_arima_model, len=len(df_no_ts), train=df_no_ts, val=df_no_ts, cov=df_no_ts, suptitle='Test Non-TimeSeries')\n",
    "\n"
   ]
  },
  {
   "cell_type": "markdown",
   "metadata": {},
   "source": [
    "## Training Module"
   ]
  },
  {
   "cell_type": "markdown",
   "metadata": {},
   "source": [
    "### 'eval_model' Function Test"
   ]
  },
  {
   "cell_type": "code",
   "execution_count": 24,
   "metadata": {},
   "outputs": [
    {
     "name": "stdout",
     "output_type": "stream",
     "text": [
      "NaiveSeasonal(K=12) - MAPE: 17.17%, RMSE: 0.00M, MAE: 0.00M, Score: 4.9\n"
     ]
    }
   ],
   "source": [
    "# Test function for with TimeSeries data.\n",
    "eval_model(model=naive_model, len=len(val_air), train=train_air, val=val_air)"
   ]
  },
  {
   "cell_type": "code",
   "execution_count": 25,
   "metadata": {},
   "outputs": [
    {
     "name": "stdout",
     "output_type": "stream",
     "text": [
      "Please input TimeSeries data.\n"
     ]
    }
   ],
   "source": [
    "# Test function with non-TimeSeries data.\n",
    "eval_model(model=naive_model, len=len(df_no_ts), train=df_no_ts, val=df_no_ts)"
   ]
  },
  {
   "cell_type": "markdown",
   "metadata": {},
   "source": [
    "### 'eval_model_ml' Function Test"
   ]
  },
  {
   "cell_type": "code",
   "execution_count": 26,
   "metadata": {},
   "outputs": [
    {
     "name": "stdout",
     "output_type": "stream",
     "text": [
      "AutoARIMA() - MAPE: 0.00%, RMSE: 0M, MAE: 0M, Score: 9.9\n"
     ]
    }
   ],
   "source": [
    "# Test function with TimeSeries data.\n",
    "eval_model_ml(model=auto_arima_model, len=len(val_air), train=train_air, val=val_air, cov=series_air)"
   ]
  },
  {
   "cell_type": "code",
   "execution_count": 27,
   "metadata": {},
   "outputs": [
    {
     "name": "stdout",
     "output_type": "stream",
     "text": [
      "Please input TimeSeries data.\n"
     ]
    }
   ],
   "source": [
    "# Test function with non-TimeSeries data.\n",
    "eval_model_ml(model=auto_arima_model, len=len(df_no_ts), train=df_no_ts, val=df_no_ts, cov=df_no_ts)"
   ]
  },
  {
   "cell_type": "markdown",
   "metadata": {},
   "source": [
    "### 'model_pkl' Function Test"
   ]
  },
  {
   "cell_type": "code",
   "execution_count": 28,
   "metadata": {},
   "outputs": [
    {
     "name": "stdout",
     "output_type": "stream",
     "text": [
      "test_model saved to C:\\Users\\ASUS\\OneDrive - Universiti Malaya\\Sem 7\\FYP\\Model pkl\\\\\n"
     ]
    }
   ],
   "source": [
    "# Test saving a trained model to check if the file is correctly created at the specified location.\n",
    "model_pkl(model=naive_model, pickle_name='test_model', filepath=r\"C:\\Users\\ASUS\\OneDrive - Universiti Malaya\\Sem 7\\FYP\\Model pkl\\\\\")"
   ]
  },
  {
   "cell_type": "code",
   "execution_count": 29,
   "metadata": {},
   "outputs": [
    {
     "name": "stdout",
     "output_type": "stream",
     "text": [
      "Please enter valid filepath.\n"
     ]
    }
   ],
   "source": [
    "#  Test saving a trained model to an invalid location to check if the function returns an error.\n",
    "model_pkl(model=naive_model, pickle_name='test_model', filepath=r\"C:\\Users\\ASUS\\OneDrive - Universiti Malaya\\Sem 7\\FYP\\Model pkl\\test\\\\\")"
   ]
  },
  {
   "cell_type": "markdown",
   "metadata": {},
   "source": [
    "### 'pred_model' Function Test"
   ]
  },
  {
   "cell_type": "code",
   "execution_count": 30,
   "metadata": {},
   "outputs": [
    {
     "data": {
      "text/html": [
       "<div><svg style=\"position: absolute; width: 0; height: 0; overflow: hidden\">\n",
       "<defs>\n",
       "<symbol id=\"icon-database\" viewBox=\"0 0 32 32\">\n",
       "<path d=\"M16 0c-8.837 0-16 2.239-16 5v4c0 2.761 7.163 5 16 5s16-2.239 16-5v-4c0-2.761-7.163-5-16-5z\"></path>\n",
       "<path d=\"M16 17c-8.837 0-16-2.239-16-5v6c0 2.761 7.163 5 16 5s16-2.239 16-5v-6c0 2.761-7.163 5-16 5z\"></path>\n",
       "<path d=\"M16 26c-8.837 0-16-2.239-16-5v6c0 2.761 7.163 5 16 5s16-2.239 16-5v-6c0 2.761-7.163 5-16 5z\"></path>\n",
       "</symbol>\n",
       "<symbol id=\"icon-file-text2\" viewBox=\"0 0 32 32\">\n",
       "<path d=\"M28.681 7.159c-0.694-0.947-1.662-2.053-2.724-3.116s-2.169-2.030-3.116-2.724c-1.612-1.182-2.393-1.319-2.841-1.319h-15.5c-1.378 0-2.5 1.121-2.5 2.5v27c0 1.378 1.122 2.5 2.5 2.5h23c1.378 0 2.5-1.122 2.5-2.5v-19.5c0-0.448-0.137-1.23-1.319-2.841zM24.543 5.457c0.959 0.959 1.712 1.825 2.268 2.543h-4.811v-4.811c0.718 0.556 1.584 1.309 2.543 2.268zM28 29.5c0 0.271-0.229 0.5-0.5 0.5h-23c-0.271 0-0.5-0.229-0.5-0.5v-27c0-0.271 0.229-0.5 0.5-0.5 0 0 15.499-0 15.5 0v7c0 0.552 0.448 1 1 1h7v19.5z\"></path>\n",
       "<path d=\"M23 26h-14c-0.552 0-1-0.448-1-1s0.448-1 1-1h14c0.552 0 1 0.448 1 1s-0.448 1-1 1z\"></path>\n",
       "<path d=\"M23 22h-14c-0.552 0-1-0.448-1-1s0.448-1 1-1h14c0.552 0 1 0.448 1 1s-0.448 1-1 1z\"></path>\n",
       "<path d=\"M23 18h-14c-0.552 0-1-0.448-1-1s0.448-1 1-1h14c0.552 0 1 0.448 1 1s-0.448 1-1 1z\"></path>\n",
       "</symbol>\n",
       "</defs>\n",
       "</svg>\n",
       "<style>/* CSS stylesheet for displaying xarray objects in jupyterlab.\n",
       " *\n",
       " */\n",
       "\n",
       ":root {\n",
       "  --xr-font-color0: var(--jp-content-font-color0, rgba(0, 0, 0, 1));\n",
       "  --xr-font-color2: var(--jp-content-font-color2, rgba(0, 0, 0, 0.54));\n",
       "  --xr-font-color3: var(--jp-content-font-color3, rgba(0, 0, 0, 0.38));\n",
       "  --xr-border-color: var(--jp-border-color2, #e0e0e0);\n",
       "  --xr-disabled-color: var(--jp-layout-color3, #bdbdbd);\n",
       "  --xr-background-color: var(--jp-layout-color0, white);\n",
       "  --xr-background-color-row-even: var(--jp-layout-color1, white);\n",
       "  --xr-background-color-row-odd: var(--jp-layout-color2, #eeeeee);\n",
       "}\n",
       "\n",
       "html[theme=dark],\n",
       "body[data-theme=dark],\n",
       "body.vscode-dark {\n",
       "  --xr-font-color0: rgba(255, 255, 255, 1);\n",
       "  --xr-font-color2: rgba(255, 255, 255, 0.54);\n",
       "  --xr-font-color3: rgba(255, 255, 255, 0.38);\n",
       "  --xr-border-color: #1F1F1F;\n",
       "  --xr-disabled-color: #515151;\n",
       "  --xr-background-color: #111111;\n",
       "  --xr-background-color-row-even: #111111;\n",
       "  --xr-background-color-row-odd: #313131;\n",
       "}\n",
       "\n",
       ".xr-wrap {\n",
       "  display: block !important;\n",
       "  min-width: 300px;\n",
       "  max-width: 700px;\n",
       "}\n",
       "\n",
       ".xr-text-repr-fallback {\n",
       "  /* fallback to plain text repr when CSS is not injected (untrusted notebook) */\n",
       "  display: none;\n",
       "}\n",
       "\n",
       ".xr-header {\n",
       "  padding-top: 6px;\n",
       "  padding-bottom: 6px;\n",
       "  margin-bottom: 4px;\n",
       "  border-bottom: solid 1px var(--xr-border-color);\n",
       "}\n",
       "\n",
       ".xr-header > div,\n",
       ".xr-header > ul {\n",
       "  display: inline;\n",
       "  margin-top: 0;\n",
       "  margin-bottom: 0;\n",
       "}\n",
       "\n",
       ".xr-obj-type,\n",
       ".xr-array-name {\n",
       "  margin-left: 2px;\n",
       "  margin-right: 10px;\n",
       "}\n",
       "\n",
       ".xr-obj-type {\n",
       "  color: var(--xr-font-color2);\n",
       "}\n",
       "\n",
       ".xr-sections {\n",
       "  padding-left: 0 !important;\n",
       "  display: grid;\n",
       "  grid-template-columns: 150px auto auto 1fr 20px 20px;\n",
       "}\n",
       "\n",
       ".xr-section-item {\n",
       "  display: contents;\n",
       "}\n",
       "\n",
       ".xr-section-item input {\n",
       "  display: none;\n",
       "}\n",
       "\n",
       ".xr-section-item input + label {\n",
       "  color: var(--xr-disabled-color);\n",
       "}\n",
       "\n",
       ".xr-section-item input:enabled + label {\n",
       "  cursor: pointer;\n",
       "  color: var(--xr-font-color2);\n",
       "}\n",
       "\n",
       ".xr-section-item input:enabled + label:hover {\n",
       "  color: var(--xr-font-color0);\n",
       "}\n",
       "\n",
       ".xr-section-summary {\n",
       "  grid-column: 1;\n",
       "  color: var(--xr-font-color2);\n",
       "  font-weight: 500;\n",
       "}\n",
       "\n",
       ".xr-section-summary > span {\n",
       "  display: inline-block;\n",
       "  padding-left: 0.5em;\n",
       "}\n",
       "\n",
       ".xr-section-summary-in:disabled + label {\n",
       "  color: var(--xr-font-color2);\n",
       "}\n",
       "\n",
       ".xr-section-summary-in + label:before {\n",
       "  display: inline-block;\n",
       "  content: '►';\n",
       "  font-size: 11px;\n",
       "  width: 15px;\n",
       "  text-align: center;\n",
       "}\n",
       "\n",
       ".xr-section-summary-in:disabled + label:before {\n",
       "  color: var(--xr-disabled-color);\n",
       "}\n",
       "\n",
       ".xr-section-summary-in:checked + label:before {\n",
       "  content: '▼';\n",
       "}\n",
       "\n",
       ".xr-section-summary-in:checked + label > span {\n",
       "  display: none;\n",
       "}\n",
       "\n",
       ".xr-section-summary,\n",
       ".xr-section-inline-details {\n",
       "  padding-top: 4px;\n",
       "  padding-bottom: 4px;\n",
       "}\n",
       "\n",
       ".xr-section-inline-details {\n",
       "  grid-column: 2 / -1;\n",
       "}\n",
       "\n",
       ".xr-section-details {\n",
       "  display: none;\n",
       "  grid-column: 1 / -1;\n",
       "  margin-bottom: 5px;\n",
       "}\n",
       "\n",
       ".xr-section-summary-in:checked ~ .xr-section-details {\n",
       "  display: contents;\n",
       "}\n",
       "\n",
       ".xr-array-wrap {\n",
       "  grid-column: 1 / -1;\n",
       "  display: grid;\n",
       "  grid-template-columns: 20px auto;\n",
       "}\n",
       "\n",
       ".xr-array-wrap > label {\n",
       "  grid-column: 1;\n",
       "  vertical-align: top;\n",
       "}\n",
       "\n",
       ".xr-preview {\n",
       "  color: var(--xr-font-color3);\n",
       "}\n",
       "\n",
       ".xr-array-preview,\n",
       ".xr-array-data {\n",
       "  padding: 0 5px !important;\n",
       "  grid-column: 2;\n",
       "}\n",
       "\n",
       ".xr-array-data,\n",
       ".xr-array-in:checked ~ .xr-array-preview {\n",
       "  display: none;\n",
       "}\n",
       "\n",
       ".xr-array-in:checked ~ .xr-array-data,\n",
       ".xr-array-preview {\n",
       "  display: inline-block;\n",
       "}\n",
       "\n",
       ".xr-dim-list {\n",
       "  display: inline-block !important;\n",
       "  list-style: none;\n",
       "  padding: 0 !important;\n",
       "  margin: 0;\n",
       "}\n",
       "\n",
       ".xr-dim-list li {\n",
       "  display: inline-block;\n",
       "  padding: 0;\n",
       "  margin: 0;\n",
       "}\n",
       "\n",
       ".xr-dim-list:before {\n",
       "  content: '(';\n",
       "}\n",
       "\n",
       ".xr-dim-list:after {\n",
       "  content: ')';\n",
       "}\n",
       "\n",
       ".xr-dim-list li:not(:last-child):after {\n",
       "  content: ',';\n",
       "  padding-right: 5px;\n",
       "}\n",
       "\n",
       ".xr-has-index {\n",
       "  font-weight: bold;\n",
       "}\n",
       "\n",
       ".xr-var-list,\n",
       ".xr-var-item {\n",
       "  display: contents;\n",
       "}\n",
       "\n",
       ".xr-var-item > div,\n",
       ".xr-var-item label,\n",
       ".xr-var-item > .xr-var-name span {\n",
       "  background-color: var(--xr-background-color-row-even);\n",
       "  margin-bottom: 0;\n",
       "}\n",
       "\n",
       ".xr-var-item > .xr-var-name:hover span {\n",
       "  padding-right: 5px;\n",
       "}\n",
       "\n",
       ".xr-var-list > li:nth-child(odd) > div,\n",
       ".xr-var-list > li:nth-child(odd) > label,\n",
       ".xr-var-list > li:nth-child(odd) > .xr-var-name span {\n",
       "  background-color: var(--xr-background-color-row-odd);\n",
       "}\n",
       "\n",
       ".xr-var-name {\n",
       "  grid-column: 1;\n",
       "}\n",
       "\n",
       ".xr-var-dims {\n",
       "  grid-column: 2;\n",
       "}\n",
       "\n",
       ".xr-var-dtype {\n",
       "  grid-column: 3;\n",
       "  text-align: right;\n",
       "  color: var(--xr-font-color2);\n",
       "}\n",
       "\n",
       ".xr-var-preview {\n",
       "  grid-column: 4;\n",
       "}\n",
       "\n",
       ".xr-index-preview {\n",
       "  grid-column: 2 / 5;\n",
       "  color: var(--xr-font-color2);\n",
       "}\n",
       "\n",
       ".xr-var-name,\n",
       ".xr-var-dims,\n",
       ".xr-var-dtype,\n",
       ".xr-preview,\n",
       ".xr-attrs dt {\n",
       "  white-space: nowrap;\n",
       "  overflow: hidden;\n",
       "  text-overflow: ellipsis;\n",
       "  padding-right: 10px;\n",
       "}\n",
       "\n",
       ".xr-var-name:hover,\n",
       ".xr-var-dims:hover,\n",
       ".xr-var-dtype:hover,\n",
       ".xr-attrs dt:hover {\n",
       "  overflow: visible;\n",
       "  width: auto;\n",
       "  z-index: 1;\n",
       "}\n",
       "\n",
       ".xr-var-attrs,\n",
       ".xr-var-data,\n",
       ".xr-index-data {\n",
       "  display: none;\n",
       "  background-color: var(--xr-background-color) !important;\n",
       "  padding-bottom: 5px !important;\n",
       "}\n",
       "\n",
       ".xr-var-attrs-in:checked ~ .xr-var-attrs,\n",
       ".xr-var-data-in:checked ~ .xr-var-data,\n",
       ".xr-index-data-in:checked ~ .xr-index-data {\n",
       "  display: block;\n",
       "}\n",
       "\n",
       ".xr-var-data > table {\n",
       "  float: right;\n",
       "}\n",
       "\n",
       ".xr-var-name span,\n",
       ".xr-var-data,\n",
       ".xr-index-name div,\n",
       ".xr-index-data,\n",
       ".xr-attrs {\n",
       "  padding-left: 25px !important;\n",
       "}\n",
       "\n",
       ".xr-attrs,\n",
       ".xr-var-attrs,\n",
       ".xr-var-data,\n",
       ".xr-index-data {\n",
       "  grid-column: 1 / -1;\n",
       "}\n",
       "\n",
       "dl.xr-attrs {\n",
       "  padding: 0;\n",
       "  margin: 0;\n",
       "  display: grid;\n",
       "  grid-template-columns: 125px auto;\n",
       "}\n",
       "\n",
       ".xr-attrs dt,\n",
       ".xr-attrs dd {\n",
       "  padding: 0;\n",
       "  margin: 0;\n",
       "  float: left;\n",
       "  padding-right: 10px;\n",
       "  width: auto;\n",
       "}\n",
       "\n",
       ".xr-attrs dt {\n",
       "  font-weight: normal;\n",
       "  grid-column: 1;\n",
       "}\n",
       "\n",
       ".xr-attrs dt:hover span {\n",
       "  display: inline-block;\n",
       "  background: var(--xr-background-color);\n",
       "  padding-right: 10px;\n",
       "}\n",
       "\n",
       ".xr-attrs dd {\n",
       "  grid-column: 2;\n",
       "  white-space: pre-wrap;\n",
       "  word-break: break-all;\n",
       "}\n",
       "\n",
       ".xr-icon-database,\n",
       ".xr-icon-file-text2,\n",
       ".xr-no-icon {\n",
       "  display: inline-block;\n",
       "  vertical-align: middle;\n",
       "  width: 1em;\n",
       "  height: 1.5em !important;\n",
       "  stroke-width: 0;\n",
       "  stroke: currentColor;\n",
       "  fill: currentColor;\n",
       "}\n",
       "</style><pre class='xr-text-repr-fallback'>&lt;TimeSeries (DataArray) (Month: 29, component: 1, sample: 1)&gt;\n",
       "array([[[467.]],\n",
       "\n",
       "       [[404.]],\n",
       "\n",
       "       [[347.]],\n",
       "\n",
       "       [[305.]],\n",
       "\n",
       "       [[336.]],\n",
       "\n",
       "       [[340.]],\n",
       "\n",
       "       [[318.]],\n",
       "\n",
       "       [[362.]],\n",
       "\n",
       "       [[348.]],\n",
       "\n",
       "       [[363.]],\n",
       "\n",
       "...\n",
       "\n",
       "       [[362.]],\n",
       "\n",
       "       [[348.]],\n",
       "\n",
       "       [[363.]],\n",
       "\n",
       "       [[435.]],\n",
       "\n",
       "       [[491.]],\n",
       "\n",
       "       [[467.]],\n",
       "\n",
       "       [[404.]],\n",
       "\n",
       "       [[347.]],\n",
       "\n",
       "       [[305.]],\n",
       "\n",
       "       [[336.]]])\n",
       "Coordinates:\n",
       "  * Month      (Month) datetime64[ns] 1958-08-01 1958-09-01 ... 1960-12-01\n",
       "  * component  (component) object &#x27;#Passengers&#x27;\n",
       "Dimensions without coordinates: sample\n",
       "Attributes:\n",
       "    static_covariates:  None\n",
       "    hierarchy:          None</pre><div class='xr-wrap' style='display:none'><div class='xr-header'><div class='xr-obj-type'>TimeSeries (DataArray)</div><div class='xr-array-name'></div><ul class='xr-dim-list'><li><span class='xr-has-index'>Month</span>: 29</li><li><span class='xr-has-index'>component</span>: 1</li><li><span>sample</span>: 1</li></ul></div><ul class='xr-sections'><li class='xr-section-item'><div class='xr-array-wrap'><input id='section-2752b421-9514-47d2-8ea2-19cbed6015a3' class='xr-array-in' type='checkbox' checked><label for='section-2752b421-9514-47d2-8ea2-19cbed6015a3' title='Show/hide data repr'><svg class='icon xr-icon-database'><use xlink:href='#icon-database'></use></svg></label><div class='xr-array-preview xr-preview'><span>467.0 404.0 347.0 305.0 336.0 340.0 ... 467.0 404.0 347.0 305.0 336.0</span></div><div class='xr-array-data'><pre>array([[[467.]],\n",
       "\n",
       "       [[404.]],\n",
       "\n",
       "       [[347.]],\n",
       "\n",
       "       [[305.]],\n",
       "\n",
       "       [[336.]],\n",
       "\n",
       "       [[340.]],\n",
       "\n",
       "       [[318.]],\n",
       "\n",
       "       [[362.]],\n",
       "\n",
       "       [[348.]],\n",
       "\n",
       "       [[363.]],\n",
       "\n",
       "...\n",
       "\n",
       "       [[362.]],\n",
       "\n",
       "       [[348.]],\n",
       "\n",
       "       [[363.]],\n",
       "\n",
       "       [[435.]],\n",
       "\n",
       "       [[491.]],\n",
       "\n",
       "       [[467.]],\n",
       "\n",
       "       [[404.]],\n",
       "\n",
       "       [[347.]],\n",
       "\n",
       "       [[305.]],\n",
       "\n",
       "       [[336.]]])</pre></div></div></li><li class='xr-section-item'><input id='section-0b6db3ac-5fc2-4ade-85cf-61cb99a8a73a' class='xr-section-summary-in' type='checkbox'  checked><label for='section-0b6db3ac-5fc2-4ade-85cf-61cb99a8a73a' class='xr-section-summary' >Coordinates: <span>(2)</span></label><div class='xr-section-inline-details'></div><div class='xr-section-details'><ul class='xr-var-list'><li class='xr-var-item'><div class='xr-var-name'><span class='xr-has-index'>Month</span></div><div class='xr-var-dims'>(Month)</div><div class='xr-var-dtype'>datetime64[ns]</div><div class='xr-var-preview xr-preview'>1958-08-01 ... 1960-12-01</div><input id='attrs-a0f6e1e2-f26d-4dda-8833-ab3c49eb1359' class='xr-var-attrs-in' type='checkbox' disabled><label for='attrs-a0f6e1e2-f26d-4dda-8833-ab3c49eb1359' title='Show/Hide attributes'><svg class='icon xr-icon-file-text2'><use xlink:href='#icon-file-text2'></use></svg></label><input id='data-6af71923-c96a-46e8-92ba-0657363760f6' class='xr-var-data-in' type='checkbox'><label for='data-6af71923-c96a-46e8-92ba-0657363760f6' title='Show/Hide data repr'><svg class='icon xr-icon-database'><use xlink:href='#icon-database'></use></svg></label><div class='xr-var-attrs'><dl class='xr-attrs'></dl></div><div class='xr-var-data'><pre>array([&#x27;1958-08-01T00:00:00.000000000&#x27;, &#x27;1958-09-01T00:00:00.000000000&#x27;,\n",
       "       &#x27;1958-10-01T00:00:00.000000000&#x27;, &#x27;1958-11-01T00:00:00.000000000&#x27;,\n",
       "       &#x27;1958-12-01T00:00:00.000000000&#x27;, &#x27;1959-01-01T00:00:00.000000000&#x27;,\n",
       "       &#x27;1959-02-01T00:00:00.000000000&#x27;, &#x27;1959-03-01T00:00:00.000000000&#x27;,\n",
       "       &#x27;1959-04-01T00:00:00.000000000&#x27;, &#x27;1959-05-01T00:00:00.000000000&#x27;,\n",
       "       &#x27;1959-06-01T00:00:00.000000000&#x27;, &#x27;1959-07-01T00:00:00.000000000&#x27;,\n",
       "       &#x27;1959-08-01T00:00:00.000000000&#x27;, &#x27;1959-09-01T00:00:00.000000000&#x27;,\n",
       "       &#x27;1959-10-01T00:00:00.000000000&#x27;, &#x27;1959-11-01T00:00:00.000000000&#x27;,\n",
       "       &#x27;1959-12-01T00:00:00.000000000&#x27;, &#x27;1960-01-01T00:00:00.000000000&#x27;,\n",
       "       &#x27;1960-02-01T00:00:00.000000000&#x27;, &#x27;1960-03-01T00:00:00.000000000&#x27;,\n",
       "       &#x27;1960-04-01T00:00:00.000000000&#x27;, &#x27;1960-05-01T00:00:00.000000000&#x27;,\n",
       "       &#x27;1960-06-01T00:00:00.000000000&#x27;, &#x27;1960-07-01T00:00:00.000000000&#x27;,\n",
       "       &#x27;1960-08-01T00:00:00.000000000&#x27;, &#x27;1960-09-01T00:00:00.000000000&#x27;,\n",
       "       &#x27;1960-10-01T00:00:00.000000000&#x27;, &#x27;1960-11-01T00:00:00.000000000&#x27;,\n",
       "       &#x27;1960-12-01T00:00:00.000000000&#x27;], dtype=&#x27;datetime64[ns]&#x27;)</pre></div></li><li class='xr-var-item'><div class='xr-var-name'><span class='xr-has-index'>component</span></div><div class='xr-var-dims'>(component)</div><div class='xr-var-dtype'>object</div><div class='xr-var-preview xr-preview'>&#x27;#Passengers&#x27;</div><input id='attrs-4410562f-7dda-4791-b85b-1320c914fd84' class='xr-var-attrs-in' type='checkbox' disabled><label for='attrs-4410562f-7dda-4791-b85b-1320c914fd84' title='Show/Hide attributes'><svg class='icon xr-icon-file-text2'><use xlink:href='#icon-file-text2'></use></svg></label><input id='data-84968cfe-c9c2-4ab7-8e83-996022fb4254' class='xr-var-data-in' type='checkbox'><label for='data-84968cfe-c9c2-4ab7-8e83-996022fb4254' title='Show/Hide data repr'><svg class='icon xr-icon-database'><use xlink:href='#icon-database'></use></svg></label><div class='xr-var-attrs'><dl class='xr-attrs'></dl></div><div class='xr-var-data'><pre>array([&#x27;#Passengers&#x27;], dtype=object)</pre></div></li></ul></div></li><li class='xr-section-item'><input id='section-dc586440-51c4-4b0e-9a35-f9ac1f535285' class='xr-section-summary-in' type='checkbox'  ><label for='section-dc586440-51c4-4b0e-9a35-f9ac1f535285' class='xr-section-summary' >Indexes: <span>(2)</span></label><div class='xr-section-inline-details'></div><div class='xr-section-details'><ul class='xr-var-list'><li class='xr-var-item'><div class='xr-index-name'><div>Month</div></div><div class='xr-index-preview'>PandasIndex</div><div></div><input id='index-b1bff675-5558-4ada-a1f9-ca99c956a41b' class='xr-index-data-in' type='checkbox'/><label for='index-b1bff675-5558-4ada-a1f9-ca99c956a41b' title='Show/Hide index repr'><svg class='icon xr-icon-database'><use xlink:href='#icon-database'></use></svg></label><div class='xr-index-data'><pre>PandasIndex(DatetimeIndex([&#x27;1958-08-01&#x27;, &#x27;1958-09-01&#x27;, &#x27;1958-10-01&#x27;, &#x27;1958-11-01&#x27;,\n",
       "               &#x27;1958-12-01&#x27;, &#x27;1959-01-01&#x27;, &#x27;1959-02-01&#x27;, &#x27;1959-03-01&#x27;,\n",
       "               &#x27;1959-04-01&#x27;, &#x27;1959-05-01&#x27;, &#x27;1959-06-01&#x27;, &#x27;1959-07-01&#x27;,\n",
       "               &#x27;1959-08-01&#x27;, &#x27;1959-09-01&#x27;, &#x27;1959-10-01&#x27;, &#x27;1959-11-01&#x27;,\n",
       "               &#x27;1959-12-01&#x27;, &#x27;1960-01-01&#x27;, &#x27;1960-02-01&#x27;, &#x27;1960-03-01&#x27;,\n",
       "               &#x27;1960-04-01&#x27;, &#x27;1960-05-01&#x27;, &#x27;1960-06-01&#x27;, &#x27;1960-07-01&#x27;,\n",
       "               &#x27;1960-08-01&#x27;, &#x27;1960-09-01&#x27;, &#x27;1960-10-01&#x27;, &#x27;1960-11-01&#x27;,\n",
       "               &#x27;1960-12-01&#x27;],\n",
       "              dtype=&#x27;datetime64[ns]&#x27;, name=&#x27;Month&#x27;, freq=&#x27;MS&#x27;))</pre></div></li><li class='xr-var-item'><div class='xr-index-name'><div>component</div></div><div class='xr-index-preview'>PandasIndex</div><div></div><input id='index-deb2a35d-8ff8-46d8-9b4d-9715cba4bac7' class='xr-index-data-in' type='checkbox'/><label for='index-deb2a35d-8ff8-46d8-9b4d-9715cba4bac7' title='Show/Hide index repr'><svg class='icon xr-icon-database'><use xlink:href='#icon-database'></use></svg></label><div class='xr-index-data'><pre>PandasIndex(Index([&#x27;#Passengers&#x27;], dtype=&#x27;object&#x27;, name=&#x27;component&#x27;))</pre></div></li></ul></div></li><li class='xr-section-item'><input id='section-65b01b50-845f-41a6-af4a-1df134a1b6d7' class='xr-section-summary-in' type='checkbox'  checked><label for='section-65b01b50-845f-41a6-af4a-1df134a1b6d7' class='xr-section-summary' >Attributes: <span>(2)</span></label><div class='xr-section-inline-details'></div><div class='xr-section-details'><dl class='xr-attrs'><dt><span>static_covariates :</span></dt><dd>None</dd><dt><span>hierarchy :</span></dt><dd>None</dd></dl></div></li></ul></div></div>"
      ],
      "text/plain": [
       "<TimeSeries (DataArray) (Month: 29, component: 1, sample: 1)>\n",
       "array([[[467.]],\n",
       "\n",
       "       [[404.]],\n",
       "\n",
       "       [[347.]],\n",
       "\n",
       "       [[305.]],\n",
       "\n",
       "       [[336.]],\n",
       "\n",
       "       [[340.]],\n",
       "\n",
       "       [[318.]],\n",
       "\n",
       "       [[362.]],\n",
       "\n",
       "       [[348.]],\n",
       "\n",
       "       [[363.]],\n",
       "\n",
       "...\n",
       "\n",
       "       [[362.]],\n",
       "\n",
       "       [[348.]],\n",
       "\n",
       "       [[363.]],\n",
       "\n",
       "       [[435.]],\n",
       "\n",
       "       [[491.]],\n",
       "\n",
       "       [[467.]],\n",
       "\n",
       "       [[404.]],\n",
       "\n",
       "       [[347.]],\n",
       "\n",
       "       [[305.]],\n",
       "\n",
       "       [[336.]]])\n",
       "Coordinates:\n",
       "  * Month      (Month) datetime64[ns] 1958-08-01 1958-09-01 ... 1960-12-01\n",
       "  * component  (component) object '#Passengers'\n",
       "Dimensions without coordinates: sample\n",
       "Attributes:\n",
       "    static_covariates:  None\n",
       "    hierarchy:          None"
      ]
     },
     "execution_count": 30,
     "metadata": {},
     "output_type": "execute_result"
    }
   ],
   "source": [
    "# Test function with TimeSeries data\n",
    "pred_model(model=naive_model, len=len(val_air), train=train_air)"
   ]
  },
  {
   "cell_type": "code",
   "execution_count": 31,
   "metadata": {},
   "outputs": [
    {
     "name": "stdout",
     "output_type": "stream",
     "text": [
      "Please input TimeSeries data.\n"
     ]
    }
   ],
   "source": [
    "# Test function with non-TimeSeries data\n",
    "pred_model(model=naive_model, len=len(df_no_ts), train=df_no_ts)"
   ]
  },
  {
   "cell_type": "markdown",
   "metadata": {},
   "source": [
    "### 'pred_ml_model' Function Test"
   ]
  },
  {
   "cell_type": "code",
   "execution_count": 32,
   "metadata": {},
   "outputs": [
    {
     "data": {
      "text/html": [
       "<div><svg style=\"position: absolute; width: 0; height: 0; overflow: hidden\">\n",
       "<defs>\n",
       "<symbol id=\"icon-database\" viewBox=\"0 0 32 32\">\n",
       "<path d=\"M16 0c-8.837 0-16 2.239-16 5v4c0 2.761 7.163 5 16 5s16-2.239 16-5v-4c0-2.761-7.163-5-16-5z\"></path>\n",
       "<path d=\"M16 17c-8.837 0-16-2.239-16-5v6c0 2.761 7.163 5 16 5s16-2.239 16-5v-6c0 2.761-7.163 5-16 5z\"></path>\n",
       "<path d=\"M16 26c-8.837 0-16-2.239-16-5v6c0 2.761 7.163 5 16 5s16-2.239 16-5v-6c0 2.761-7.163 5-16 5z\"></path>\n",
       "</symbol>\n",
       "<symbol id=\"icon-file-text2\" viewBox=\"0 0 32 32\">\n",
       "<path d=\"M28.681 7.159c-0.694-0.947-1.662-2.053-2.724-3.116s-2.169-2.030-3.116-2.724c-1.612-1.182-2.393-1.319-2.841-1.319h-15.5c-1.378 0-2.5 1.121-2.5 2.5v27c0 1.378 1.122 2.5 2.5 2.5h23c1.378 0 2.5-1.122 2.5-2.5v-19.5c0-0.448-0.137-1.23-1.319-2.841zM24.543 5.457c0.959 0.959 1.712 1.825 2.268 2.543h-4.811v-4.811c0.718 0.556 1.584 1.309 2.543 2.268zM28 29.5c0 0.271-0.229 0.5-0.5 0.5h-23c-0.271 0-0.5-0.229-0.5-0.5v-27c0-0.271 0.229-0.5 0.5-0.5 0 0 15.499-0 15.5 0v7c0 0.552 0.448 1 1 1h7v19.5z\"></path>\n",
       "<path d=\"M23 26h-14c-0.552 0-1-0.448-1-1s0.448-1 1-1h14c0.552 0 1 0.448 1 1s-0.448 1-1 1z\"></path>\n",
       "<path d=\"M23 22h-14c-0.552 0-1-0.448-1-1s0.448-1 1-1h14c0.552 0 1 0.448 1 1s-0.448 1-1 1z\"></path>\n",
       "<path d=\"M23 18h-14c-0.552 0-1-0.448-1-1s0.448-1 1-1h14c0.552 0 1 0.448 1 1s-0.448 1-1 1z\"></path>\n",
       "</symbol>\n",
       "</defs>\n",
       "</svg>\n",
       "<style>/* CSS stylesheet for displaying xarray objects in jupyterlab.\n",
       " *\n",
       " */\n",
       "\n",
       ":root {\n",
       "  --xr-font-color0: var(--jp-content-font-color0, rgba(0, 0, 0, 1));\n",
       "  --xr-font-color2: var(--jp-content-font-color2, rgba(0, 0, 0, 0.54));\n",
       "  --xr-font-color3: var(--jp-content-font-color3, rgba(0, 0, 0, 0.38));\n",
       "  --xr-border-color: var(--jp-border-color2, #e0e0e0);\n",
       "  --xr-disabled-color: var(--jp-layout-color3, #bdbdbd);\n",
       "  --xr-background-color: var(--jp-layout-color0, white);\n",
       "  --xr-background-color-row-even: var(--jp-layout-color1, white);\n",
       "  --xr-background-color-row-odd: var(--jp-layout-color2, #eeeeee);\n",
       "}\n",
       "\n",
       "html[theme=dark],\n",
       "body[data-theme=dark],\n",
       "body.vscode-dark {\n",
       "  --xr-font-color0: rgba(255, 255, 255, 1);\n",
       "  --xr-font-color2: rgba(255, 255, 255, 0.54);\n",
       "  --xr-font-color3: rgba(255, 255, 255, 0.38);\n",
       "  --xr-border-color: #1F1F1F;\n",
       "  --xr-disabled-color: #515151;\n",
       "  --xr-background-color: #111111;\n",
       "  --xr-background-color-row-even: #111111;\n",
       "  --xr-background-color-row-odd: #313131;\n",
       "}\n",
       "\n",
       ".xr-wrap {\n",
       "  display: block !important;\n",
       "  min-width: 300px;\n",
       "  max-width: 700px;\n",
       "}\n",
       "\n",
       ".xr-text-repr-fallback {\n",
       "  /* fallback to plain text repr when CSS is not injected (untrusted notebook) */\n",
       "  display: none;\n",
       "}\n",
       "\n",
       ".xr-header {\n",
       "  padding-top: 6px;\n",
       "  padding-bottom: 6px;\n",
       "  margin-bottom: 4px;\n",
       "  border-bottom: solid 1px var(--xr-border-color);\n",
       "}\n",
       "\n",
       ".xr-header > div,\n",
       ".xr-header > ul {\n",
       "  display: inline;\n",
       "  margin-top: 0;\n",
       "  margin-bottom: 0;\n",
       "}\n",
       "\n",
       ".xr-obj-type,\n",
       ".xr-array-name {\n",
       "  margin-left: 2px;\n",
       "  margin-right: 10px;\n",
       "}\n",
       "\n",
       ".xr-obj-type {\n",
       "  color: var(--xr-font-color2);\n",
       "}\n",
       "\n",
       ".xr-sections {\n",
       "  padding-left: 0 !important;\n",
       "  display: grid;\n",
       "  grid-template-columns: 150px auto auto 1fr 20px 20px;\n",
       "}\n",
       "\n",
       ".xr-section-item {\n",
       "  display: contents;\n",
       "}\n",
       "\n",
       ".xr-section-item input {\n",
       "  display: none;\n",
       "}\n",
       "\n",
       ".xr-section-item input + label {\n",
       "  color: var(--xr-disabled-color);\n",
       "}\n",
       "\n",
       ".xr-section-item input:enabled + label {\n",
       "  cursor: pointer;\n",
       "  color: var(--xr-font-color2);\n",
       "}\n",
       "\n",
       ".xr-section-item input:enabled + label:hover {\n",
       "  color: var(--xr-font-color0);\n",
       "}\n",
       "\n",
       ".xr-section-summary {\n",
       "  grid-column: 1;\n",
       "  color: var(--xr-font-color2);\n",
       "  font-weight: 500;\n",
       "}\n",
       "\n",
       ".xr-section-summary > span {\n",
       "  display: inline-block;\n",
       "  padding-left: 0.5em;\n",
       "}\n",
       "\n",
       ".xr-section-summary-in:disabled + label {\n",
       "  color: var(--xr-font-color2);\n",
       "}\n",
       "\n",
       ".xr-section-summary-in + label:before {\n",
       "  display: inline-block;\n",
       "  content: '►';\n",
       "  font-size: 11px;\n",
       "  width: 15px;\n",
       "  text-align: center;\n",
       "}\n",
       "\n",
       ".xr-section-summary-in:disabled + label:before {\n",
       "  color: var(--xr-disabled-color);\n",
       "}\n",
       "\n",
       ".xr-section-summary-in:checked + label:before {\n",
       "  content: '▼';\n",
       "}\n",
       "\n",
       ".xr-section-summary-in:checked + label > span {\n",
       "  display: none;\n",
       "}\n",
       "\n",
       ".xr-section-summary,\n",
       ".xr-section-inline-details {\n",
       "  padding-top: 4px;\n",
       "  padding-bottom: 4px;\n",
       "}\n",
       "\n",
       ".xr-section-inline-details {\n",
       "  grid-column: 2 / -1;\n",
       "}\n",
       "\n",
       ".xr-section-details {\n",
       "  display: none;\n",
       "  grid-column: 1 / -1;\n",
       "  margin-bottom: 5px;\n",
       "}\n",
       "\n",
       ".xr-section-summary-in:checked ~ .xr-section-details {\n",
       "  display: contents;\n",
       "}\n",
       "\n",
       ".xr-array-wrap {\n",
       "  grid-column: 1 / -1;\n",
       "  display: grid;\n",
       "  grid-template-columns: 20px auto;\n",
       "}\n",
       "\n",
       ".xr-array-wrap > label {\n",
       "  grid-column: 1;\n",
       "  vertical-align: top;\n",
       "}\n",
       "\n",
       ".xr-preview {\n",
       "  color: var(--xr-font-color3);\n",
       "}\n",
       "\n",
       ".xr-array-preview,\n",
       ".xr-array-data {\n",
       "  padding: 0 5px !important;\n",
       "  grid-column: 2;\n",
       "}\n",
       "\n",
       ".xr-array-data,\n",
       ".xr-array-in:checked ~ .xr-array-preview {\n",
       "  display: none;\n",
       "}\n",
       "\n",
       ".xr-array-in:checked ~ .xr-array-data,\n",
       ".xr-array-preview {\n",
       "  display: inline-block;\n",
       "}\n",
       "\n",
       ".xr-dim-list {\n",
       "  display: inline-block !important;\n",
       "  list-style: none;\n",
       "  padding: 0 !important;\n",
       "  margin: 0;\n",
       "}\n",
       "\n",
       ".xr-dim-list li {\n",
       "  display: inline-block;\n",
       "  padding: 0;\n",
       "  margin: 0;\n",
       "}\n",
       "\n",
       ".xr-dim-list:before {\n",
       "  content: '(';\n",
       "}\n",
       "\n",
       ".xr-dim-list:after {\n",
       "  content: ')';\n",
       "}\n",
       "\n",
       ".xr-dim-list li:not(:last-child):after {\n",
       "  content: ',';\n",
       "  padding-right: 5px;\n",
       "}\n",
       "\n",
       ".xr-has-index {\n",
       "  font-weight: bold;\n",
       "}\n",
       "\n",
       ".xr-var-list,\n",
       ".xr-var-item {\n",
       "  display: contents;\n",
       "}\n",
       "\n",
       ".xr-var-item > div,\n",
       ".xr-var-item label,\n",
       ".xr-var-item > .xr-var-name span {\n",
       "  background-color: var(--xr-background-color-row-even);\n",
       "  margin-bottom: 0;\n",
       "}\n",
       "\n",
       ".xr-var-item > .xr-var-name:hover span {\n",
       "  padding-right: 5px;\n",
       "}\n",
       "\n",
       ".xr-var-list > li:nth-child(odd) > div,\n",
       ".xr-var-list > li:nth-child(odd) > label,\n",
       ".xr-var-list > li:nth-child(odd) > .xr-var-name span {\n",
       "  background-color: var(--xr-background-color-row-odd);\n",
       "}\n",
       "\n",
       ".xr-var-name {\n",
       "  grid-column: 1;\n",
       "}\n",
       "\n",
       ".xr-var-dims {\n",
       "  grid-column: 2;\n",
       "}\n",
       "\n",
       ".xr-var-dtype {\n",
       "  grid-column: 3;\n",
       "  text-align: right;\n",
       "  color: var(--xr-font-color2);\n",
       "}\n",
       "\n",
       ".xr-var-preview {\n",
       "  grid-column: 4;\n",
       "}\n",
       "\n",
       ".xr-index-preview {\n",
       "  grid-column: 2 / 5;\n",
       "  color: var(--xr-font-color2);\n",
       "}\n",
       "\n",
       ".xr-var-name,\n",
       ".xr-var-dims,\n",
       ".xr-var-dtype,\n",
       ".xr-preview,\n",
       ".xr-attrs dt {\n",
       "  white-space: nowrap;\n",
       "  overflow: hidden;\n",
       "  text-overflow: ellipsis;\n",
       "  padding-right: 10px;\n",
       "}\n",
       "\n",
       ".xr-var-name:hover,\n",
       ".xr-var-dims:hover,\n",
       ".xr-var-dtype:hover,\n",
       ".xr-attrs dt:hover {\n",
       "  overflow: visible;\n",
       "  width: auto;\n",
       "  z-index: 1;\n",
       "}\n",
       "\n",
       ".xr-var-attrs,\n",
       ".xr-var-data,\n",
       ".xr-index-data {\n",
       "  display: none;\n",
       "  background-color: var(--xr-background-color) !important;\n",
       "  padding-bottom: 5px !important;\n",
       "}\n",
       "\n",
       ".xr-var-attrs-in:checked ~ .xr-var-attrs,\n",
       ".xr-var-data-in:checked ~ .xr-var-data,\n",
       ".xr-index-data-in:checked ~ .xr-index-data {\n",
       "  display: block;\n",
       "}\n",
       "\n",
       ".xr-var-data > table {\n",
       "  float: right;\n",
       "}\n",
       "\n",
       ".xr-var-name span,\n",
       ".xr-var-data,\n",
       ".xr-index-name div,\n",
       ".xr-index-data,\n",
       ".xr-attrs {\n",
       "  padding-left: 25px !important;\n",
       "}\n",
       "\n",
       ".xr-attrs,\n",
       ".xr-var-attrs,\n",
       ".xr-var-data,\n",
       ".xr-index-data {\n",
       "  grid-column: 1 / -1;\n",
       "}\n",
       "\n",
       "dl.xr-attrs {\n",
       "  padding: 0;\n",
       "  margin: 0;\n",
       "  display: grid;\n",
       "  grid-template-columns: 125px auto;\n",
       "}\n",
       "\n",
       ".xr-attrs dt,\n",
       ".xr-attrs dd {\n",
       "  padding: 0;\n",
       "  margin: 0;\n",
       "  float: left;\n",
       "  padding-right: 10px;\n",
       "  width: auto;\n",
       "}\n",
       "\n",
       ".xr-attrs dt {\n",
       "  font-weight: normal;\n",
       "  grid-column: 1;\n",
       "}\n",
       "\n",
       ".xr-attrs dt:hover span {\n",
       "  display: inline-block;\n",
       "  background: var(--xr-background-color);\n",
       "  padding-right: 10px;\n",
       "}\n",
       "\n",
       ".xr-attrs dd {\n",
       "  grid-column: 2;\n",
       "  white-space: pre-wrap;\n",
       "  word-break: break-all;\n",
       "}\n",
       "\n",
       ".xr-icon-database,\n",
       ".xr-icon-file-text2,\n",
       ".xr-no-icon {\n",
       "  display: inline-block;\n",
       "  vertical-align: middle;\n",
       "  width: 1em;\n",
       "  height: 1.5em !important;\n",
       "  stroke-width: 0;\n",
       "  stroke: currentColor;\n",
       "  fill: currentColor;\n",
       "}\n",
       "</style><pre class='xr-text-repr-fallback'>&lt;TimeSeries (DataArray) (Month: 29, component: 1, sample: 1)&gt;\n",
       "array([[[504.99999974]],\n",
       "\n",
       "       [[404.00000164]],\n",
       "\n",
       "       [[359.00000249]],\n",
       "\n",
       "       [[310.00000341]],\n",
       "\n",
       "       [[337.00000291]],\n",
       "\n",
       "       [[360.00000247]],\n",
       "\n",
       "       [[342.00000281]],\n",
       "\n",
       "       [[406.0000016 ]],\n",
       "\n",
       "       [[396.00000179]],\n",
       "\n",
       "       [[420.00000134]],\n",
       "\n",
       "...\n",
       "\n",
       "       [[419.00000136]],\n",
       "\n",
       "       [[461.00000057]],\n",
       "\n",
       "       [[472.00000036]],\n",
       "\n",
       "       [[534.99999917]],\n",
       "\n",
       "       [[621.99999753]],\n",
       "\n",
       "       [[605.99999783]],\n",
       "\n",
       "       [[507.99999968]],\n",
       "\n",
       "       [[461.00000057]],\n",
       "\n",
       "       [[390.00000191]],\n",
       "\n",
       "       [[432.00000111]]])\n",
       "Coordinates:\n",
       "  * Month      (Month) datetime64[ns] 1958-08-01 1958-09-01 ... 1960-12-01\n",
       "  * component  (component) object &#x27;#Passengers&#x27;\n",
       "Dimensions without coordinates: sample\n",
       "Attributes:\n",
       "    static_covariates:  None\n",
       "    hierarchy:          None</pre><div class='xr-wrap' style='display:none'><div class='xr-header'><div class='xr-obj-type'>TimeSeries (DataArray)</div><div class='xr-array-name'></div><ul class='xr-dim-list'><li><span class='xr-has-index'>Month</span>: 29</li><li><span class='xr-has-index'>component</span>: 1</li><li><span>sample</span>: 1</li></ul></div><ul class='xr-sections'><li class='xr-section-item'><div class='xr-array-wrap'><input id='section-56c0b3ec-8f09-4421-aaa6-c444996ab36b' class='xr-array-in' type='checkbox' checked><label for='section-56c0b3ec-8f09-4421-aaa6-c444996ab36b' title='Show/hide data repr'><svg class='icon xr-icon-database'><use xlink:href='#icon-database'></use></svg></label><div class='xr-array-preview xr-preview'><span>505.0 404.0 359.0 310.0 337.0 360.0 ... 606.0 508.0 461.0 390.0 432.0</span></div><div class='xr-array-data'><pre>array([[[504.99999974]],\n",
       "\n",
       "       [[404.00000164]],\n",
       "\n",
       "       [[359.00000249]],\n",
       "\n",
       "       [[310.00000341]],\n",
       "\n",
       "       [[337.00000291]],\n",
       "\n",
       "       [[360.00000247]],\n",
       "\n",
       "       [[342.00000281]],\n",
       "\n",
       "       [[406.0000016 ]],\n",
       "\n",
       "       [[396.00000179]],\n",
       "\n",
       "       [[420.00000134]],\n",
       "\n",
       "...\n",
       "\n",
       "       [[419.00000136]],\n",
       "\n",
       "       [[461.00000057]],\n",
       "\n",
       "       [[472.00000036]],\n",
       "\n",
       "       [[534.99999917]],\n",
       "\n",
       "       [[621.99999753]],\n",
       "\n",
       "       [[605.99999783]],\n",
       "\n",
       "       [[507.99999968]],\n",
       "\n",
       "       [[461.00000057]],\n",
       "\n",
       "       [[390.00000191]],\n",
       "\n",
       "       [[432.00000111]]])</pre></div></div></li><li class='xr-section-item'><input id='section-db949890-118b-4f5e-8f7c-8887844e6183' class='xr-section-summary-in' type='checkbox'  checked><label for='section-db949890-118b-4f5e-8f7c-8887844e6183' class='xr-section-summary' >Coordinates: <span>(2)</span></label><div class='xr-section-inline-details'></div><div class='xr-section-details'><ul class='xr-var-list'><li class='xr-var-item'><div class='xr-var-name'><span class='xr-has-index'>Month</span></div><div class='xr-var-dims'>(Month)</div><div class='xr-var-dtype'>datetime64[ns]</div><div class='xr-var-preview xr-preview'>1958-08-01 ... 1960-12-01</div><input id='attrs-f0c35c34-743a-4f80-86f9-01c619962115' class='xr-var-attrs-in' type='checkbox' disabled><label for='attrs-f0c35c34-743a-4f80-86f9-01c619962115' title='Show/Hide attributes'><svg class='icon xr-icon-file-text2'><use xlink:href='#icon-file-text2'></use></svg></label><input id='data-e9bbba33-2f45-4e97-b773-17f6901841ba' class='xr-var-data-in' type='checkbox'><label for='data-e9bbba33-2f45-4e97-b773-17f6901841ba' title='Show/Hide data repr'><svg class='icon xr-icon-database'><use xlink:href='#icon-database'></use></svg></label><div class='xr-var-attrs'><dl class='xr-attrs'></dl></div><div class='xr-var-data'><pre>array([&#x27;1958-08-01T00:00:00.000000000&#x27;, &#x27;1958-09-01T00:00:00.000000000&#x27;,\n",
       "       &#x27;1958-10-01T00:00:00.000000000&#x27;, &#x27;1958-11-01T00:00:00.000000000&#x27;,\n",
       "       &#x27;1958-12-01T00:00:00.000000000&#x27;, &#x27;1959-01-01T00:00:00.000000000&#x27;,\n",
       "       &#x27;1959-02-01T00:00:00.000000000&#x27;, &#x27;1959-03-01T00:00:00.000000000&#x27;,\n",
       "       &#x27;1959-04-01T00:00:00.000000000&#x27;, &#x27;1959-05-01T00:00:00.000000000&#x27;,\n",
       "       &#x27;1959-06-01T00:00:00.000000000&#x27;, &#x27;1959-07-01T00:00:00.000000000&#x27;,\n",
       "       &#x27;1959-08-01T00:00:00.000000000&#x27;, &#x27;1959-09-01T00:00:00.000000000&#x27;,\n",
       "       &#x27;1959-10-01T00:00:00.000000000&#x27;, &#x27;1959-11-01T00:00:00.000000000&#x27;,\n",
       "       &#x27;1959-12-01T00:00:00.000000000&#x27;, &#x27;1960-01-01T00:00:00.000000000&#x27;,\n",
       "       &#x27;1960-02-01T00:00:00.000000000&#x27;, &#x27;1960-03-01T00:00:00.000000000&#x27;,\n",
       "       &#x27;1960-04-01T00:00:00.000000000&#x27;, &#x27;1960-05-01T00:00:00.000000000&#x27;,\n",
       "       &#x27;1960-06-01T00:00:00.000000000&#x27;, &#x27;1960-07-01T00:00:00.000000000&#x27;,\n",
       "       &#x27;1960-08-01T00:00:00.000000000&#x27;, &#x27;1960-09-01T00:00:00.000000000&#x27;,\n",
       "       &#x27;1960-10-01T00:00:00.000000000&#x27;, &#x27;1960-11-01T00:00:00.000000000&#x27;,\n",
       "       &#x27;1960-12-01T00:00:00.000000000&#x27;], dtype=&#x27;datetime64[ns]&#x27;)</pre></div></li><li class='xr-var-item'><div class='xr-var-name'><span class='xr-has-index'>component</span></div><div class='xr-var-dims'>(component)</div><div class='xr-var-dtype'>object</div><div class='xr-var-preview xr-preview'>&#x27;#Passengers&#x27;</div><input id='attrs-f743de2f-9f4c-4699-b019-14a187fa4720' class='xr-var-attrs-in' type='checkbox' disabled><label for='attrs-f743de2f-9f4c-4699-b019-14a187fa4720' title='Show/Hide attributes'><svg class='icon xr-icon-file-text2'><use xlink:href='#icon-file-text2'></use></svg></label><input id='data-4cb2c8c8-d7ce-4703-b783-3681f8f16cb7' class='xr-var-data-in' type='checkbox'><label for='data-4cb2c8c8-d7ce-4703-b783-3681f8f16cb7' title='Show/Hide data repr'><svg class='icon xr-icon-database'><use xlink:href='#icon-database'></use></svg></label><div class='xr-var-attrs'><dl class='xr-attrs'></dl></div><div class='xr-var-data'><pre>array([&#x27;#Passengers&#x27;], dtype=object)</pre></div></li></ul></div></li><li class='xr-section-item'><input id='section-26536c7d-eedd-41bd-ad42-8a26f2b73442' class='xr-section-summary-in' type='checkbox'  ><label for='section-26536c7d-eedd-41bd-ad42-8a26f2b73442' class='xr-section-summary' >Indexes: <span>(2)</span></label><div class='xr-section-inline-details'></div><div class='xr-section-details'><ul class='xr-var-list'><li class='xr-var-item'><div class='xr-index-name'><div>Month</div></div><div class='xr-index-preview'>PandasIndex</div><div></div><input id='index-696cf08a-738f-4112-9739-6be2fd94e975' class='xr-index-data-in' type='checkbox'/><label for='index-696cf08a-738f-4112-9739-6be2fd94e975' title='Show/Hide index repr'><svg class='icon xr-icon-database'><use xlink:href='#icon-database'></use></svg></label><div class='xr-index-data'><pre>PandasIndex(DatetimeIndex([&#x27;1958-08-01&#x27;, &#x27;1958-09-01&#x27;, &#x27;1958-10-01&#x27;, &#x27;1958-11-01&#x27;,\n",
       "               &#x27;1958-12-01&#x27;, &#x27;1959-01-01&#x27;, &#x27;1959-02-01&#x27;, &#x27;1959-03-01&#x27;,\n",
       "               &#x27;1959-04-01&#x27;, &#x27;1959-05-01&#x27;, &#x27;1959-06-01&#x27;, &#x27;1959-07-01&#x27;,\n",
       "               &#x27;1959-08-01&#x27;, &#x27;1959-09-01&#x27;, &#x27;1959-10-01&#x27;, &#x27;1959-11-01&#x27;,\n",
       "               &#x27;1959-12-01&#x27;, &#x27;1960-01-01&#x27;, &#x27;1960-02-01&#x27;, &#x27;1960-03-01&#x27;,\n",
       "               &#x27;1960-04-01&#x27;, &#x27;1960-05-01&#x27;, &#x27;1960-06-01&#x27;, &#x27;1960-07-01&#x27;,\n",
       "               &#x27;1960-08-01&#x27;, &#x27;1960-09-01&#x27;, &#x27;1960-10-01&#x27;, &#x27;1960-11-01&#x27;,\n",
       "               &#x27;1960-12-01&#x27;],\n",
       "              dtype=&#x27;datetime64[ns]&#x27;, name=&#x27;Month&#x27;, freq=&#x27;MS&#x27;))</pre></div></li><li class='xr-var-item'><div class='xr-index-name'><div>component</div></div><div class='xr-index-preview'>PandasIndex</div><div></div><input id='index-0b3be3ca-b3ec-4296-a2a8-be4e87834347' class='xr-index-data-in' type='checkbox'/><label for='index-0b3be3ca-b3ec-4296-a2a8-be4e87834347' title='Show/Hide index repr'><svg class='icon xr-icon-database'><use xlink:href='#icon-database'></use></svg></label><div class='xr-index-data'><pre>PandasIndex(Index([&#x27;#Passengers&#x27;], dtype=&#x27;object&#x27;, name=&#x27;component&#x27;))</pre></div></li></ul></div></li><li class='xr-section-item'><input id='section-2cacfa00-111e-40a7-b799-f394b6556f92' class='xr-section-summary-in' type='checkbox'  checked><label for='section-2cacfa00-111e-40a7-b799-f394b6556f92' class='xr-section-summary' >Attributes: <span>(2)</span></label><div class='xr-section-inline-details'></div><div class='xr-section-details'><dl class='xr-attrs'><dt><span>static_covariates :</span></dt><dd>None</dd><dt><span>hierarchy :</span></dt><dd>None</dd></dl></div></li></ul></div></div>"
      ],
      "text/plain": [
       "<TimeSeries (DataArray) (Month: 29, component: 1, sample: 1)>\n",
       "array([[[504.99999974]],\n",
       "\n",
       "       [[404.00000164]],\n",
       "\n",
       "       [[359.00000249]],\n",
       "\n",
       "       [[310.00000341]],\n",
       "\n",
       "       [[337.00000291]],\n",
       "\n",
       "       [[360.00000247]],\n",
       "\n",
       "       [[342.00000281]],\n",
       "\n",
       "       [[406.0000016 ]],\n",
       "\n",
       "       [[396.00000179]],\n",
       "\n",
       "       [[420.00000134]],\n",
       "\n",
       "...\n",
       "\n",
       "       [[419.00000136]],\n",
       "\n",
       "       [[461.00000057]],\n",
       "\n",
       "       [[472.00000036]],\n",
       "\n",
       "       [[534.99999917]],\n",
       "\n",
       "       [[621.99999753]],\n",
       "\n",
       "       [[605.99999783]],\n",
       "\n",
       "       [[507.99999968]],\n",
       "\n",
       "       [[461.00000057]],\n",
       "\n",
       "       [[390.00000191]],\n",
       "\n",
       "       [[432.00000111]]])\n",
       "Coordinates:\n",
       "  * Month      (Month) datetime64[ns] 1958-08-01 1958-09-01 ... 1960-12-01\n",
       "  * component  (component) object '#Passengers'\n",
       "Dimensions without coordinates: sample\n",
       "Attributes:\n",
       "    static_covariates:  None\n",
       "    hierarchy:          None"
      ]
     },
     "execution_count": 32,
     "metadata": {},
     "output_type": "execute_result"
    }
   ],
   "source": [
    "# Test function with TimeSeries data\n",
    "pred_ml_model(model=auto_arima_model, len=len(val_air), train=train_air, cov=series_air)"
   ]
  },
  {
   "cell_type": "code",
   "execution_count": 33,
   "metadata": {},
   "outputs": [
    {
     "name": "stdout",
     "output_type": "stream",
     "text": [
      "Please input TimeSeries data.\n"
     ]
    }
   ],
   "source": [
    "# Test function with non-TimeSeries data\n",
    "pred_ml_model(model=auto_arima_model, len=len(df_no_ts), train=df_no_ts, cov=df_no_ts)"
   ]
  },
  {
   "cell_type": "markdown",
   "metadata": {},
   "source": [
    "## Utility Module"
   ]
  },
  {
   "cell_type": "markdown",
   "metadata": {},
   "source": [
    "### 'month_diff_ts' Function Test"
   ]
  },
  {
   "cell_type": "code",
   "execution_count": 34,
   "metadata": {},
   "outputs": [
    {
     "data": {
      "text/plain": [
       "29"
      ]
     },
     "execution_count": 34,
     "metadata": {},
     "output_type": "execute_result"
    }
   ],
   "source": [
    "# Test function with TimeSeries data\n",
    "month_diff_ts(ts1=train_air, ts2=val_air)"
   ]
  },
  {
   "cell_type": "code",
   "execution_count": 35,
   "metadata": {},
   "outputs": [
    {
     "name": "stdout",
     "output_type": "stream",
     "text": [
      "Please input TimeSeries objects.\n"
     ]
    }
   ],
   "source": [
    "# Test function with non-TimeSeries data\n",
    "month_diff_ts(ts1=df_no_ts, ts2=df_no_ts)"
   ]
  },
  {
   "cell_type": "markdown",
   "metadata": {},
   "source": [
    "### 'load_dw' Function Test"
   ]
  },
  {
   "cell_type": "code",
   "execution_count": 36,
   "metadata": {},
   "outputs": [
    {
     "name": "stdout",
     "output_type": "stream",
     "text": [
      "Successfully connected to the data warehouse.\n"
     ]
    },
    {
     "data": {
      "text/plain": [
       "Engine(mssql+pyodbc:///?odbc_connect=DRIVER%3D%7BODBC+Driver+17+for+SQL+Server%7D%3BSERVER%3DLAPTOP-14FUNTO5%5CNEWSERVER%3B%3BDATABASE%3Ddksp_dashboard%3BTrusted_Connection%3Dyes%3B)"
      ]
     },
     "execution_count": 36,
     "metadata": {},
     "output_type": "execute_result"
    }
   ],
   "source": [
    "# Test function valid server address\n",
    "load_dw(server=r'LAPTOP-14FUNTO5\\NEWSERVER;', dw_name='dksp_dashboard')"
   ]
  },
  {
   "cell_type": "code",
   "execution_count": 37,
   "metadata": {},
   "outputs": [
    {
     "name": "stdout",
     "output_type": "stream",
     "text": [
      "Invalid server address.\n"
     ]
    }
   ],
   "source": [
    "# Test function invalid server address\n",
    "load_dw(server=999, dw_name='dksp_dashboard')"
   ]
  }
 ],
 "metadata": {
  "kernelspec": {
   "display_name": "analyticaldashboard",
   "language": "python",
   "name": "analyticaldashboard"
  },
  "language_info": {
   "codemirror_mode": {
    "name": "ipython",
    "version": 3
   },
   "file_extension": ".py",
   "mimetype": "text/x-python",
   "name": "python",
   "nbconvert_exporter": "python",
   "pygments_lexer": "ipython3",
   "version": "3.11.7"
  }
 },
 "nbformat": 4,
 "nbformat_minor": 2
}
